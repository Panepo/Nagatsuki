{
 "cells": [
  {
   "cell_type": "code",
   "execution_count": 20,
   "metadata": {},
   "outputs": [],
   "source": [
    "import pyrealsense2 as rs"
   ]
  },
  {
   "cell_type": "code",
   "execution_count": 21,
   "metadata": {},
   "outputs": [
    {
     "name": "stdout",
     "output_type": "stream",
     "text": [
      "0B07\n"
     ]
    }
   ],
   "source": [
    "deviceDetect = False\n",
    "ctx = rs.context()\n",
    "devices = ctx.query_devices()\n",
    "\n",
    "for dev in devices:\n",
    "    productName = str(dev.get_info(rs.camera_info.product_id))\n",
    "    print(productName)\n",
    "    \n",
    "    # DS 435 config\n",
    "    if productName in \"0B07\":\n",
    "        EnableColorStream = True\n",
    "        EnableInfraredStream = True\n",
    "        EnableDepthStream = True\n",
    "        deviceDetect = True\n",
    "        break\n",
    "    \n",
    "    # DS 415 config\n",
    "    elif productName in \"0AD3\":\n",
    "        EnableColorStream = True\n",
    "        EnableInfraredStream = True\n",
    "        EnableDepthStream = True\n",
    "        deviceDetect = True\n",
    "        break\n",
    "        \n",
    "    # DS 410 config\n",
    "    elif productName in \"0AD2\":\n",
    "        EnableColorStream = False\n",
    "        EnableInfraredStream = True\n",
    "        EnableDepthStream = True\n",
    "        deviceDetect = True\n",
    "        break\n",
    "\n",
    "if deviceDetect is not True:\n",
    "    raise Exception(\"No supported device was found\")"
   ]
  },
  {
   "cell_type": "code",
   "execution_count": 22,
   "metadata": {},
   "outputs": [
    {
     "name": "stdout",
     "output_type": "stream",
     "text": [
      "=======================================================\n",
      "Get Video Stream Intrinsics\n",
      "=======================================================\n",
      "Color Intrinsics:\n",
      "  width: 640 \n",
      "  height: 480 \n",
      "  ppx: 310.5052490234375 \n",
      "  ppy: 245.05064392089844 \n",
      "  fx: 618.7859497070312 \n",
      "  fy: 617.9658203125 \n",
      "  model: distortion.brown_conrady\n",
      "\n",
      "Infrared Intrinsics:\n",
      "  width: 1280 \n",
      "  height: 720 \n",
      "  ppx: 639.13232421875 \n",
      "  ppy: 362.58013916015625 \n",
      "  fx: 637.5574340820312 \n",
      "  fy: 637.5574340820312 \n",
      "  model: distortion.brown_conrady\n",
      "\n",
      "=======================================================\n",
      "Get and Apply Depth-to-Stream Extrinsics\n",
      "=======================================================\n",
      "Color Extrinsics:\n",
      "rotation: [0.999963, 0.0072977, -0.00455206, -0.00728499, 0.99997, 0.00280114, 0.00457237, -0.00276788, 0.999986]\n",
      "translation: [0.0145757, 0.00041163, 0.000190269]\n",
      "\n",
      "Infrared Extrinsics:\n",
      "rotation: [1, 0, 0, 0, 1, 0, 0, 0, 1]\n",
      "translation: [0, 0, 0]\n",
      "\n",
      "=======================================================\n",
      "Get Disparity Baseline\n",
      "=======================================================\n",
      "rotation: [1, 0, 0, 0, 1, 0, 0, 0, 1]\n",
      "translation: [-0.0499424, 0, 0]\n"
     ]
    }
   ],
   "source": [
    "# Configure depth and color streams\n",
    "pipeline = rs.pipeline()\n",
    "config = rs.config()\n",
    "\n",
    "if EnableColorStream is True:\n",
    "    config.enable_stream(rs.stream.color)\n",
    "\n",
    "if EnableInfraredStream is True:\n",
    "    config.enable_stream(rs.stream.infrared, 1)\n",
    "    config.enable_stream(rs.stream.infrared, 2)\n",
    "    \n",
    "if EnableDepthStream is True:\n",
    "    config.enable_stream(rs.stream.depth)\n",
    "    \n",
    "# Start streaming\n",
    "cfg = pipeline.start(config)\n",
    "\n",
    "# Get Video Stream Intrinsics\n",
    "print(\"=======================================================\")\n",
    "print(\"Get Video Stream Intrinsics\")\n",
    "print(\"=======================================================\")\n",
    "colorStream = cfg.get_stream(rs.stream.color)\n",
    "colorProfile = colorStream.as_video_stream_profile()\n",
    "colorIntrin = colorProfile.get_intrinsics()\n",
    "print(\"Color Intrinsics:\\n  width:\" , colorIntrin.width, \"\\n  height:\" , colorIntrin.height, \"\\n  ppx:\" , colorIntrin.ppx, \"\\n  ppy:\" , colorIntrin.ppy, \"\\n  fx:\" , colorIntrin.fx, \"\\n  fy:\" , colorIntrin.fy, \"\\n  model:\" , colorIntrin.model)\n",
    "print(\"\")\n",
    "\n",
    "infraredStream = cfg.get_stream(rs.stream.infrared, 1)\n",
    "infraredProfile = infraredStream.as_video_stream_profile()\n",
    "infraredIntrin = infraredProfile.get_intrinsics()\n",
    "print(\"Infrared Intrinsics:\\n  width:\" , infraredIntrin.width, \"\\n  height:\" , infraredIntrin.height, \"\\n  ppx:\" , infraredIntrin.ppx, \"\\n  ppy:\" , infraredIntrin.ppy, \"\\n  fx:\" , infraredIntrin.fx, \"\\n  fy:\" , infraredIntrin.fy, \"\\n  model:\" , infraredIntrin.model)\n",
    "\n",
    "# Get and Apply Depth-to-Stream Extrinsics\n",
    "print(\"\\n=======================================================\")\n",
    "print(\"Get and Apply Depth-to-Stream Extrinsics\")\n",
    "print(\"=======================================================\")\n",
    "print(\"Color Extrinsics:\")\n",
    "depthStream = cfg.get_stream(rs.stream.depth)\n",
    "colorExtrin = depthStream.get_extrinsics_to(colorStream)\n",
    "print(colorExtrin)\n",
    "print(\"\")\n",
    "print(\"Infrared Extrinsics:\")\n",
    "infraredExtrin = depthStream.get_extrinsics_to(infraredStream)\n",
    "print(infraredExtrin)\n",
    "\n",
    "# Get Disparity Baseline\n",
    "print(\"\\n=======================================================\")\n",
    "print(\"Get Disparity Baseline\")\n",
    "print(\"=======================================================\")\n",
    "infraredStream2 = cfg.get_stream(rs.stream.infrared, 2)\n",
    "baseline = infraredStream.get_extrinsics_to(infraredStream2)\n",
    "print(baseline)"
   ]
  },
  {
   "cell_type": "code",
   "execution_count": 23,
   "metadata": {},
   "outputs": [],
   "source": [
    "pipeline.stop()"
   ]
  }
 ],
 "metadata": {
  "kernelspec": {
   "display_name": "Python 3",
   "language": "python",
   "name": "python3"
  },
  "language_info": {
   "codemirror_mode": {
    "name": "ipython",
    "version": 3
   },
   "file_extension": ".py",
   "mimetype": "text/x-python",
   "name": "python",
   "nbconvert_exporter": "python",
   "pygments_lexer": "ipython3",
   "version": "3.6.5"
  }
 },
 "nbformat": 4,
 "nbformat_minor": 2
}
