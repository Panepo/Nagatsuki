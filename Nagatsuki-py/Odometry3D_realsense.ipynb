{
 "cells": [
  {
   "cell_type": "code",
   "execution_count": 11,
   "metadata": {},
   "outputs": [
    {
     "name": "stdout",
     "output_type": "stream",
     "text": [
      "opencv: 3.4.3\n"
     ]
    }
   ],
   "source": [
    "import cv2\n",
    "print('opencv: ' +  cv2.__version__)\n",
    "\n",
    "import numpy as np\n",
    "import math\n",
    "\n",
    "import pyrealsense2 as rs\n",
    "\n",
    "from Odometry2D import VisualOdometry\n",
    "from PinholeCamera import PinholeCamera\n",
    "from OdometryUtil import truncate"
   ]
  },
  {
   "cell_type": "markdown",
   "metadata": {},
   "source": [
    "### Camera settings"
   ]
  },
  {
   "cell_type": "code",
   "execution_count": 12,
   "metadata": {},
   "outputs": [
    {
     "name": "stdout",
     "output_type": "stream",
     "text": [
      "0B07\n"
     ]
    },
    {
     "data": {
      "text/plain": [
       "<pyrealsense2.pyrealsense2.pipeline_profile at 0x16e413f4ab0>"
      ]
     },
     "execution_count": 12,
     "metadata": {},
     "output_type": "execute_result"
    }
   ],
   "source": [
    "InfWidth = 1280\n",
    "InfHeight = 720\n",
    "InfFPS = 30\n",
    "\n",
    "RES_W = InfWidth\n",
    "RES_H = InfHeight\n",
    "FOCAL = 1.88\n",
    "PRI_W = RES_W / 2\n",
    "PRI_H = RES_H / 2\n",
    "\n",
    "cam = PinholeCamera(RES_W, RES_H, FOCAL, FOCAL, PRI_W, PRI_H)\n",
    "\n",
    "deviceDetect = False\n",
    "ctx = rs.context()\n",
    "devices = ctx.query_devices()\n",
    "\n",
    "for dev in devices:\n",
    "    productName = str(dev.get_info(rs.camera_info.product_id))\n",
    "    print(productName)\n",
    "  \n",
    "    # DS 435 config\n",
    "    if productName in \"0B07\":\n",
    "        # EnableColorStream = True\n",
    "        EnableInfraredStream = True\n",
    "        # EnableDepthStream = True\n",
    "        deviceDetect = True\n",
    "        break\n",
    "    \n",
    "    # DS 415 config\n",
    "    elif productName in \"0AD3\":\n",
    "        # EnableColorStream = True\n",
    "        EnableInfraredStream = True\n",
    "        # EnableDepthStream = True\n",
    "        deviceDetect = True\n",
    "        break\n",
    "        \n",
    "    # DS 410 config\n",
    "    elif productName in \"0AD2\":\n",
    "        # EnableColorStream = False\n",
    "        EnableInfraredStream = True\n",
    "        # EnableDepthStream = True\n",
    "        deviceDetect = True\n",
    "        break\n",
    "\n",
    "if deviceDetect is not True:\n",
    "    raise Exception(\"No supported device was found\")\n",
    "    \n",
    "# Configure depth and color streams\n",
    "pipeline = rs.pipeline()\n",
    "config = rs.config()\n",
    "\n",
    "if EnableInfraredStream is True:\n",
    "    config.enable_stream(rs.stream.infrared, 1, InfWidth, InfHeight, rs.format.y8, InfFPS)\n",
    "    config.enable_stream(rs.stream.infrared, 2, InfWidth, InfHeight, rs.format.y8, InfFPS)\n",
    "\n",
    "# Start streaming\n",
    "pipeline.start(config)"
   ]
  },
  {
   "cell_type": "markdown",
   "metadata": {},
   "source": [
    "### Output settings"
   ]
  },
  {
   "cell_type": "code",
   "execution_count": 13,
   "metadata": {},
   "outputs": [],
   "source": [
    "OUT_W = 1000\n",
    "OUT_H = 1100\n",
    "\n",
    "START_X = 500\n",
    "START_Y = 550\n",
    "\n",
    "traj = np.zeros((OUT_W, OUT_H, 3), dtype=np.uint8)\n",
    "\n",
    "font = cv2.FONT_HERSHEY_TRIPLEX\n",
    "fontColor = (255, 255, 0)\n",
    "trajColor = (0, 255, 255)"
   ]
  },
  {
   "cell_type": "markdown",
   "metadata": {},
   "source": [
    "### Visual Odometry"
   ]
  },
  {
   "cell_type": "code",
   "execution_count": 14,
   "metadata": {},
   "outputs": [],
   "source": [
    "vo = VisualOdometry(cam, False)\n",
    "vo_switch = False\n",
    "frame_id = 0\n",
    "\n",
    "try:\n",
    "    while True:\n",
    "        time1 = cv2.getTickCount()\n",
    "        # Wait for a coherent pair of frames: depth and color\n",
    "        frames = pipeline.wait_for_frames()\n",
    "        \n",
    "        inf_frame1 = frames.get_infrared_frame(1) # Left IR Camera, it allows 0, 1 or no input\n",
    "        inf_frame2 = frames.get_infrared_frame(2) # Right IR camera\n",
    "        if not inf_frame1:\n",
    "            break\n",
    "\n",
    "        img1 = np.asanyarray(inf_frame1.get_data())\n",
    "        img2 = np.asanyarray(inf_frame2.get_data())\n",
    "\n",
    "        if vo_switch:\n",
    "            imgGray = cv2.cvtColor(img1, cv2.COLOR_BGR2GRAY)\n",
    "            vo.update(imgGray, frame_id)\n",
    "\n",
    "            cur_t = vo.cur_t\n",
    "            x, y, z = cur_t[0], cur_t[1], cur_t[2]\n",
    "\n",
    "            draw_x, draw_y = int(x)+START_X, int(z)+START_Y\n",
    "            cv2.circle(traj, (draw_x,draw_y), 1, trajColor, 1)\n",
    "\n",
    "            cv2.rectangle(traj, (0, 0), (OUT_W, 100), (0,0,0), -1)\n",
    "            text = \"Coordinates: x=%2f y=%2f z=%2f\"%(truncate(x,2), truncate(y,2), truncate(z,2))\n",
    "            cv2.putText(traj, text, (10,30), font, 1, fontColor, 1, 8)\n",
    "\n",
    "        time2 = cv2.getTickCount()\n",
    "        time = math.floor(((time2 - time1) * 1000) / cv2.getTickFrequency())\n",
    "        \n",
    "        imgOut = cv2.resize(img1, (int(RES_W / 2), int(RES_H / 2)), interpolation=cv2.INTER_CUBIC)\n",
    "        imgOut = cv2.copyMakeBorder(imgOut, 0, 40, 0, 0, cv2.BORDER_CONSTANT, value=(0, 0, 0))\n",
    "        textString = str(time) + \" ms \"\n",
    "        cv2.putText(imgOut, textString, (10, int(RES_H / 2) + 40), font, 1, fontColor, 2, 8)\n",
    "        cv2.imshow('Left IR Camera', imgOut)\n",
    "        \n",
    "        imgOut = cv2.resize(img2, (int(RES_W / 2), int(RES_H / 2)), interpolation=cv2.INTER_CUBIC)\n",
    "        cv2.imshow('Right IR Camera', imgOut)\n",
    "        cv2.imshow('Trajectory', traj)\n",
    "\n",
    "        getKey = cv2.waitKey(10) & 0xFF\n",
    "        if getKey == ord('q'):\n",
    "            break\n",
    "        elif getKey == ord('a'):\n",
    "            vo_switch = True\n",
    "            print('Visual odometry start')\n",
    "\n",
    "except Exception as e:\n",
    "    print(e)\n",
    "    pass\n",
    "\n",
    "finally:\n",
    "    # Stop streaming\n",
    "    cv2.destroyAllWindows()\n",
    "    pipeline.stop()"
   ]
  },
  {
   "cell_type": "code",
   "execution_count": null,
   "metadata": {},
   "outputs": [],
   "source": []
  }
 ],
 "metadata": {
  "kernelspec": {
   "display_name": "Python 3",
   "language": "python",
   "name": "python3"
  },
  "language_info": {
   "codemirror_mode": {
    "name": "ipython",
    "version": 3
   },
   "file_extension": ".py",
   "mimetype": "text/x-python",
   "name": "python",
   "nbconvert_exporter": "python",
   "pygments_lexer": "ipython3",
   "version": "3.6.5"
  }
 },
 "nbformat": 4,
 "nbformat_minor": 2
}
