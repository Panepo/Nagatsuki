{
 "cells": [
  {
   "cell_type": "code",
   "execution_count": 10,
   "metadata": {},
   "outputs": [
    {
     "name": "stdout",
     "output_type": "stream",
     "text": [
      "opencv: 3.4.3\n"
     ]
    }
   ],
   "source": [
    "import cv2\n",
    "print('opencv: ' +  cv2.__version__)\n",
    "\n",
    "import numpy as np\n",
    "import math\n",
    "\n",
    "import pyrealsense2 as rs\n",
    "\n",
    "from Odometry2D import VisualOdometry\n",
    "from PinholeCamera import PinholeCamera\n",
    "from OdometryUtil import truncate"
   ]
  },
  {
   "cell_type": "markdown",
   "metadata": {},
   "source": [
    "### Camera settings"
   ]
  },
  {
   "cell_type": "code",
   "execution_count": 11,
   "metadata": {},
   "outputs": [
    {
     "name": "stdout",
     "output_type": "stream",
     "text": [
      "0B07\n"
     ]
    },
    {
     "data": {
      "text/plain": [
       "<pyrealsense2.pyrealsense2.pipeline_profile at 0x25d17687810>"
      ]
     },
     "execution_count": 11,
     "metadata": {},
     "output_type": "execute_result"
    }
   ],
   "source": [
    "ColorStreamResWidth = 1920\n",
    "ColorStreamResHeight = 1080\n",
    "ColorStreamFPS = 30\n",
    "\n",
    "InfraredStreamResWidth = 1280\n",
    "InfraredStreamResHeight = 720\n",
    "InfraredStreamFPS = 30\n",
    "\n",
    "DepthStreamResWidth = 1280\n",
    "DepthStreamResHeight = 720\n",
    "DepthStreamFPS = 30\n",
    "\n",
    "RES_W = ColorStreamResWidth\n",
    "RES_H = ColorStreamResHeight\n",
    "FOCAL = 1.88\n",
    "PRI_W = RES_W / 2\n",
    "PRI_H = RES_H / 2\n",
    "\n",
    "cam = PinholeCamera(RES_W, RES_H, FOCAL, FOCAL, PRI_W, PRI_H)\n",
    "\n",
    "deviceDetect = False\n",
    "ctx = rs.context()\n",
    "devices = ctx.query_devices()\n",
    "\n",
    "for dev in devices:\n",
    "    productName = str(dev.get_info(rs.camera_info.product_id))\n",
    "    print(productName)\n",
    "  \n",
    "    # DS 435 config\n",
    "    if productName in \"0B07\":\n",
    "        EnableColorStream = True\n",
    "        # EnableInfraredStream = False\n",
    "        # EnableDepthStream = True\n",
    "        deviceDetect = True\n",
    "        break\n",
    "    \n",
    "    # DS 415 config\n",
    "    elif productName in \"0AD3\":\n",
    "        EnableColorStream = True\n",
    "        # EnableInfraredStream = False\n",
    "        # EnableDepthStream = True\n",
    "        deviceDetect = True\n",
    "        break\n",
    "        \n",
    "    # DS 410 config\n",
    "    elif productName in \"0AD2\":\n",
    "        # EnableColorStream = False\n",
    "        # EnableInfraredStream = True\n",
    "        # EnableDepthStream = True\n",
    "        deviceDetect = False\n",
    "        break\n",
    "\n",
    "if deviceDetect is not True:\n",
    "    raise Exception(\"No supported device was found\")\n",
    "    \n",
    "# Configure depth and color streams\n",
    "pipeline = rs.pipeline()\n",
    "config = rs.config()\n",
    "\n",
    "if EnableColorStream is True:\n",
    "    config.enable_stream(\n",
    "        rs.stream.color, ColorStreamResWidth, ColorStreamResHeight, rs.format.bgr8, ColorStreamFPS)\n",
    "\n",
    "#if EnableInfraredStream is True:\n",
    "#    config.enable_stream(\n",
    "#        rs.stream.infrared, InfraredStreamResWidth, InfraredStreamResHeight, rs.format.bgr8, InfraredStreamFPS)\n",
    "    \n",
    "#if EnableDepthStream is True:\n",
    "#    config.enable_stream(\n",
    "#        rs.stream.depth, DepthStreamResWidth, DepthStreamResHeight, rs.format.z16, DepthStreamFPS)\n",
    "\n",
    "# Start streaming\n",
    "pipeline.start(config)"
   ]
  },
  {
   "cell_type": "markdown",
   "metadata": {},
   "source": [
    "### Output settings"
   ]
  },
  {
   "cell_type": "code",
   "execution_count": 12,
   "metadata": {},
   "outputs": [],
   "source": [
    "OUT_W = 1000\n",
    "OUT_H = 1100\n",
    "\n",
    "START_X = 500\n",
    "START_Y = 550\n",
    "\n",
    "traj = np.zeros((OUT_W, OUT_H, 3), dtype=np.uint8)\n",
    "\n",
    "font = cv2.FONT_HERSHEY_TRIPLEX\n",
    "fontColor = (255, 255, 0)\n",
    "trajColor = (0, 255, 255)"
   ]
  },
  {
   "cell_type": "markdown",
   "metadata": {},
   "source": [
    "### Visual Odometry"
   ]
  },
  {
   "cell_type": "code",
   "execution_count": 13,
   "metadata": {},
   "outputs": [
    {
     "name": "stdout",
     "output_type": "stream",
     "text": [
      "Visual odometry start\n"
     ]
    }
   ],
   "source": [
    "vo = VisualOdometry(cam, False)\n",
    "vo_switch = False\n",
    "frame_id = 0\n",
    "\n",
    "try:\n",
    "    while True:\n",
    "        time1 = cv2.getTickCount()\n",
    "        # Wait for a coherent pair of frames: depth and color\n",
    "        frames = pipeline.wait_for_frames()\n",
    "        color_frame = frames.get_color_frame()\n",
    "        if not color_frame:\n",
    "            break\n",
    "\n",
    "        img = np.asanyarray(color_frame.get_data())\n",
    "\n",
    "        if vo_switch:\n",
    "            imgGray = cv2.cvtColor(img, cv2.COLOR_BGR2GRAY)\n",
    "            vo.update(imgGray, frame_id)\n",
    "\n",
    "            cur_t = vo.cur_t\n",
    "            x, y, z = cur_t[0], cur_t[1], cur_t[2]\n",
    "\n",
    "            draw_x, draw_y = int(x)+START_X, int(z)+START_Y\n",
    "            cv2.circle(traj, (draw_x,draw_y), 1, trajColor, 1)\n",
    "\n",
    "            cv2.rectangle(traj, (0, 0), (OUT_W, 100), (0,0,0), -1)\n",
    "            text = \"Coordinates: x=%2f y=%2f z=%2f\"%(truncate(x,2), truncate(y,2), truncate(z,2))\n",
    "            cv2.putText(traj, text, (10,30), font, 1, fontColor, 1, 8)\n",
    "\n",
    "        time2 = cv2.getTickCount()\n",
    "        time = math.floor(((time2 - time1) * 1000) / cv2.getTickFrequency())\n",
    "        imgOut = cv2.copyMakeBorder(img, 0, 40, 0, 0, cv2.BORDER_CONSTANT, value=(0, 0, 0))\n",
    "        textString = str(time) + \" ms \"\n",
    "        cv2.putText(imgOut, textString, (10, RES_H + 40), font, 1, fontColor, 2, 8)\n",
    "\n",
    "        imgOut = cv2.resize(imgOut, (int(RES_W / 2), int(RES_H / 2)), interpolation=cv2.INTER_CUBIC)\n",
    "        cv2.imshow('Road facing camera', imgOut)\n",
    "        cv2.imshow('Trajectory', traj)\n",
    "\n",
    "        getKey = cv2.waitKey(10) & 0xFF\n",
    "        if getKey == ord('q'):\n",
    "            break\n",
    "        elif getKey == ord('a'):\n",
    "            vo_switch = True\n",
    "            print('Visual odometry start')\n",
    "\n",
    "except Exception as e:\n",
    "    print(e)\n",
    "    pass\n",
    "\n",
    "finally:\n",
    "    # Stop streaming\n",
    "    cv2.destroyAllWindows()\n",
    "    pipeline.stop()"
   ]
  },
  {
   "cell_type": "code",
   "execution_count": null,
   "metadata": {},
   "outputs": [],
   "source": []
  }
 ],
 "metadata": {
  "kernelspec": {
   "display_name": "Python 3",
   "language": "python",
   "name": "python3"
  },
  "language_info": {
   "codemirror_mode": {
    "name": "ipython",
    "version": 3
   },
   "file_extension": ".py",
   "mimetype": "text/x-python",
   "name": "python",
   "nbconvert_exporter": "python",
   "pygments_lexer": "ipython3",
   "version": "3.6.5"
  }
 },
 "nbformat": 4,
 "nbformat_minor": 2
}
