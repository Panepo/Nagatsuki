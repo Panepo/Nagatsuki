{
 "cells": [
  {
   "cell_type": "code",
   "execution_count": 1,
   "metadata": {},
   "outputs": [
    {
     "name": "stdout",
     "output_type": "stream",
     "text": [
      "opencv: 3.4.3\n"
     ]
    }
   ],
   "source": [
    "import cv2\n",
    "print('opencv: ' +  cv2.__version__)\n",
    "\n",
    "import numpy as np\n",
    "import math\n",
    "\n",
    "from Odometry2D import VisualOdometry\n",
    "from PinholeCamera import PinholeCamera\n",
    "from OdometryUtil import truncate"
   ]
  },
  {
   "cell_type": "markdown",
   "metadata": {},
   "source": [
    "### Camera settings"
   ]
  },
  {
   "cell_type": "code",
   "execution_count": 2,
   "metadata": {},
   "outputs": [],
   "source": [
    "cam = PinholeCamera(1241.0, 376.0, 718.8560, 718.8560, 607.1928, 185.2157)"
   ]
  },
  {
   "cell_type": "markdown",
   "metadata": {},
   "source": [
    "### Output settings"
   ]
  },
  {
   "cell_type": "code",
   "execution_count": 3,
   "metadata": {},
   "outputs": [],
   "source": [
    "OUT_W = 1000\n",
    "OUT_H = 1100\n",
    "\n",
    "START_X = 500\n",
    "START_Y = 550\n",
    "\n",
    "RES_W = 1241\n",
    "RES_H = 376\n",
    "\n",
    "traj = np.zeros((OUT_W, OUT_H, 3), dtype=np.uint8)\n",
    "\n",
    "font = cv2.FONT_HERSHEY_TRIPLEX\n",
    "fontColor = (255, 255, 0)\n",
    "trajColor = (0, 255, 255)"
   ]
  },
  {
   "cell_type": "markdown",
   "metadata": {},
   "source": [
    "### Visual Odometry"
   ]
  },
  {
   "cell_type": "code",
   "execution_count": 4,
   "metadata": {},
   "outputs": [
    {
     "ename": "KeyboardInterrupt",
     "evalue": "",
     "output_type": "error",
     "traceback": [
      "\u001b[1;31m---------------------------------------------------------------------------\u001b[0m",
      "\u001b[1;31mKeyboardInterrupt\u001b[0m                         Traceback (most recent call last)",
      "\u001b[1;32m<ipython-input-4-9bf35276f7af>\u001b[0m in \u001b[0;36m<module>\u001b[1;34m()\u001b[0m\n\u001b[0;32m     30\u001b[0m     \u001b[0mcv2\u001b[0m\u001b[1;33m.\u001b[0m\u001b[0mimshow\u001b[0m\u001b[1;33m(\u001b[0m\u001b[1;34m'Road facing camera'\u001b[0m\u001b[1;33m,\u001b[0m \u001b[0mimgOut\u001b[0m\u001b[1;33m)\u001b[0m\u001b[1;33m\u001b[0m\u001b[0m\n\u001b[0;32m     31\u001b[0m     \u001b[0mcv2\u001b[0m\u001b[1;33m.\u001b[0m\u001b[0mimshow\u001b[0m\u001b[1;33m(\u001b[0m\u001b[1;34m'Trajectory'\u001b[0m\u001b[1;33m,\u001b[0m \u001b[0mtraj\u001b[0m\u001b[1;33m)\u001b[0m\u001b[1;33m\u001b[0m\u001b[0m\n\u001b[1;32m---> 32\u001b[1;33m     \u001b[0mcv2\u001b[0m\u001b[1;33m.\u001b[0m\u001b[0mwaitKey\u001b[0m\u001b[1;33m(\u001b[0m\u001b[1;36m1\u001b[0m\u001b[1;33m)\u001b[0m\u001b[1;33m\u001b[0m\u001b[0m\n\u001b[0m\u001b[0;32m     33\u001b[0m \u001b[1;33m\u001b[0m\u001b[0m\n\u001b[0;32m     34\u001b[0m \u001b[0mcv2\u001b[0m\u001b[1;33m.\u001b[0m\u001b[0mimwrite\u001b[0m\u001b[1;33m(\u001b[0m\u001b[1;34m'map.png'\u001b[0m\u001b[1;33m,\u001b[0m \u001b[0mtraj\u001b[0m\u001b[1;33m)\u001b[0m\u001b[1;33m\u001b[0m\u001b[0m\n",
      "\u001b[1;31mKeyboardInterrupt\u001b[0m: "
     ]
    }
   ],
   "source": [
    "vo = VisualOdometry(cam, True)\n",
    "vo.readAnnotations('D:/Data/dataset/poses/00.txt')\n",
    "\n",
    "for img_id in range(4541):\n",
    "    time1 = cv2.getTickCount()\n",
    "    img = cv2.imread('D:/Data/data_odometry_gray/dataset/sequences/00/image_0/' + str(img_id).zfill(6) + '.png', 0)\n",
    "\n",
    "    vo.update(img, img_id)\n",
    "    \n",
    "    cur_t = vo.cur_t\n",
    "    if(img_id > 2):\n",
    "        x, y, z = cur_t[0], cur_t[1], cur_t[2]\n",
    "    else:\n",
    "        x, y, z = 0., 0., 0.\n",
    "    draw_x, draw_y = int(x)+START_X, int(z)+START_Y\n",
    "    true_x, true_y = int(vo.trueX)+START_X, int(vo.trueZ)+START_Y\n",
    "\n",
    "    cv2.circle(traj, (draw_x,draw_y), 1, (img_id*255/4540,255-img_id*255/4540,0), 1)\n",
    "    cv2.circle(traj, (true_x,true_y), 1, (0,0,255), 2)\n",
    "    cv2.rectangle(traj, (10, 20), (600, 60), (0,0,0), -1)\n",
    "    text = \"Coordinates: x=%2fm y=%2fm z=%2fm\"%(x,y,z)\n",
    "    cv2.putText(traj, text, (20,40), cv2.FONT_HERSHEY_PLAIN, 1, (255,255,255), 1, 8)\n",
    "    \n",
    "    time2 = cv2.getTickCount()\n",
    "    time = math.floor(((time2 - time1) * 1000) / cv2.getTickFrequency())\n",
    "    imgOut = cv2.copyMakeBorder(img, 0, 40, 0, 0, cv2.BORDER_CONSTANT, value=(0, 0, 0))\n",
    "    textString = str(time) + \" ms \"\n",
    "    cv2.putText(imgOut, textString, (10, RES_H + 40), font, 1, fontColor, 2, 8)\n",
    "\n",
    "    cv2.imshow('Road facing camera', imgOut)\n",
    "    cv2.imshow('Trajectory', traj)\n",
    "    cv2.waitKey(1)\n",
    "\n",
    "cv2.imwrite('map.png', traj)"
   ]
  },
  {
   "cell_type": "code",
   "execution_count": null,
   "metadata": {},
   "outputs": [],
   "source": []
  }
 ],
 "metadata": {
  "kernelspec": {
   "display_name": "Python 3",
   "language": "python",
   "name": "python3"
  },
  "language_info": {
   "codemirror_mode": {
    "name": "ipython",
    "version": 3
   },
   "file_extension": ".py",
   "mimetype": "text/x-python",
   "name": "python",
   "nbconvert_exporter": "python",
   "pygments_lexer": "ipython3",
   "version": "3.6.5"
  }
 },
 "nbformat": 4,
 "nbformat_minor": 2
}
