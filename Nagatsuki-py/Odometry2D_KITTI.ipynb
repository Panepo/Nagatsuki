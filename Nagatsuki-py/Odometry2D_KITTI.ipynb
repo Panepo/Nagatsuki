{
 "cells": [
  {
   "cell_type": "code",
   "execution_count": 1,
   "metadata": {},
   "outputs": [
    {
     "name": "stdout",
     "output_type": "stream",
     "text": [
      "opencv: 3.4.3\n"
     ]
    }
   ],
   "source": [
    "import cv2\n",
    "print('opencv: ' +  cv2.__version__)\n",
    "\n",
    "import numpy as np\n",
    "import math\n",
    "\n",
    "from Odometry2D import VisualOdometry\n",
    "from OdometryUtil import PinholeCamera, truncate"
   ]
  },
  {
   "cell_type": "markdown",
   "metadata": {},
   "source": [
    "### Camera settings"
   ]
  },
  {
   "cell_type": "code",
   "execution_count": 2,
   "metadata": {},
   "outputs": [],
   "source": [
    "cam = PinholeCamera(1241.0, 376.0, 718.8560, 718.8560, 607.1928, 185.2157)"
   ]
  },
  {
   "cell_type": "markdown",
   "metadata": {},
   "source": [
    "### Output settings"
   ]
  },
  {
   "cell_type": "code",
   "execution_count": 3,
   "metadata": {},
   "outputs": [],
   "source": [
    "OUT_W = 1000\n",
    "OUT_H = 1000\n",
    "\n",
    "START_X = 500\n",
    "START_Y = 500\n",
    "\n",
    "RES_W = 1241\n",
    "RES_H = 376\n",
    "\n",
    "traj = np.zeros((OUT_W, OUT_H, 3), dtype=np.uint8)\n",
    "\n",
    "font = cv2.FONT_HERSHEY_TRIPLEX\n",
    "fontColor = (255, 255, 0)"
   ]
  },
  {
   "cell_type": "markdown",
   "metadata": {},
   "source": [
    "### Dataset settings"
   ]
  },
  {
   "cell_type": "code",
   "execution_count": 4,
   "metadata": {},
   "outputs": [],
   "source": [
    "DATASET = '07'\n",
    "\n",
    "PATH_POS = 'D:/Data/data_odometry_pos/poses/'\n",
    "PATH_COLOR = 'D:/Data/data_odometry_color/dataset/sequences/'\n",
    "PATH_GRAY = 'D:/Data/data_odometry_gray/dataset/sequences/'"
   ]
  },
  {
   "cell_type": "markdown",
   "metadata": {},
   "source": [
    "### Visual Odometry"
   ]
  },
  {
   "cell_type": "code",
   "execution_count": 5,
   "metadata": {},
   "outputs": [],
   "source": [
    "vo = VisualOdometry(cam, True)\n",
    "vo.readAnnotations(PATH_POS + DATASET + '.txt')\n",
    "\n",
    "for img_id in range(vo.annoLength):\n",
    "    time1 = cv2.getTickCount()\n",
    "    imgC = cv2.imread(PATH_COLOR + DATASET + '/image_2/' + str(img_id).zfill(6) + '.png', cv2.IMREAD_COLOR)\n",
    "    imgG = cv2.imread(PATH_GRAY + DATASET + '/image_0/' + str(img_id).zfill(6) + '.png', cv2.IMREAD_GRAYSCALE)\n",
    "\n",
    "    vo.update(imgG, img_id)\n",
    "    \n",
    "    cur_t = vo.cur_t\n",
    "    if(img_id > 2):\n",
    "        x, y, z = cur_t[0], cur_t[1], cur_t[2]\n",
    "    else:\n",
    "        x, y, z = 0., 0., 0.\n",
    "    draw_x, draw_y = int(x)+START_X, int(z)+START_Y\n",
    "    true_x, true_y = int(vo.trueX)+START_X, int(vo.trueZ)+START_Y\n",
    "\n",
    "    cv2.circle(traj, (true_x,true_y), 2, (0, img_id*255/vo.annoLength, 255-img_id*255/vo.annoLength), 1)\n",
    "    cv2.circle(traj, (draw_x,draw_y), 1, (img_id*255/vo.annoLength, 255-img_id*255/vo.annoLength, 0), 1)\n",
    "    \n",
    "    time2 = cv2.getTickCount()\n",
    "    time = math.floor(((time2 - time1) * 1000) / cv2.getTickFrequency())\n",
    "    imgOut = cv2.copyMakeBorder(imgC, 0, 40, 0, 0, cv2.BORDER_CONSTANT, value=(0, 0, 0))\n",
    "    text = \"Coord: x=\" + str(truncate(x,3)) + \"m y=\" + str(-1 * truncate(z,3)) + \"m\"\n",
    "    textString = str(time) + \" ms \" + text\n",
    "    cv2.putText(imgOut, textString, (10, RES_H + 30), font, 1, fontColor, 2, 8)\n",
    "\n",
    "    cv2.imshow('Road facing camera', imgOut)\n",
    "    cv2.imshow('Trajectory', traj)\n",
    "    cv2.waitKey(1)\n",
    "\n",
    "cv2.imwrite('map.png', traj)\n",
    "\n",
    "while(True):\n",
    "    getKey = cv2.waitKey(10) & 0xFF\n",
    "    if getKey == ord('q'):\n",
    "        cv2.destroyAllWindows()\n",
    "        break"
   ]
  },
  {
   "cell_type": "code",
   "execution_count": null,
   "metadata": {},
   "outputs": [],
   "source": []
  }
 ],
 "metadata": {
  "kernelspec": {
   "display_name": "Python 3",
   "language": "python",
   "name": "python3"
  },
  "language_info": {
   "codemirror_mode": {
    "name": "ipython",
    "version": 3
   },
   "file_extension": ".py",
   "mimetype": "text/x-python",
   "name": "python",
   "nbconvert_exporter": "python",
   "pygments_lexer": "ipython3",
   "version": "3.6.5"
  }
 },
 "nbformat": 4,
 "nbformat_minor": 2
}
