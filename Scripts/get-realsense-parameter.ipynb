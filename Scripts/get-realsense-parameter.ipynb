{
 "cells": [
  {
   "cell_type": "code",
   "execution_count": 1,
   "metadata": {},
   "outputs": [],
   "source": [
    "import pyrealsense2 as rs"
   ]
  },
  {
   "cell_type": "code",
   "execution_count": 2,
   "metadata": {},
   "outputs": [
    {
     "name": "stdout",
     "output_type": "stream",
     "text": [
      "0B07\n"
     ]
    }
   ],
   "source": [
    "deviceDetect = False\n",
    "ctx = rs.context()\n",
    "devices = ctx.query_devices()\n",
    "\n",
    "for dev in devices:\n",
    "    productName = str(dev.get_info(rs.camera_info.product_id))\n",
    "    print(productName)\n",
    "    \n",
    "    # DS 435 config\n",
    "    if productName in \"0B07\":\n",
    "        EnableColor = True\n",
    "        EnableInfrared = True\n",
    "        EnableDepth = True\n",
    "        deviceDetect = True\n",
    "        informat = rs.format.y8\n",
    "        break\n",
    "    \n",
    "    # DS 415 config\n",
    "    elif productName in \"0AD3\":\n",
    "        EnableColor = True\n",
    "        EnableInfrared = True\n",
    "        EnableDepth = True\n",
    "        deviceDetect = True\n",
    "        informat = rs.format.bgr8\n",
    "        break\n",
    "        \n",
    "    # DS 410 config\n",
    "    elif productName in \"0AD2\":\n",
    "        EnableColor = False\n",
    "        EnableInfrared = True\n",
    "        EnableDepth = True\n",
    "        deviceDetect = True\n",
    "        informat = rs.format.bgr8\n",
    "        break\n",
    "\n",
    "if deviceDetect is not True:\n",
    "    raise Exception(\"No supported device was found\")"
   ]
  },
  {
   "cell_type": "code",
   "execution_count": 3,
   "metadata": {},
   "outputs": [],
   "source": [
    "ColorWidth = 1280\n",
    "ColorHeight = 720\n",
    "ColorFPS = 30\n",
    "\n",
    "InfWidth = 1280\n",
    "InfHeight = 720\n",
    "InfFPS = 30"
   ]
  },
  {
   "cell_type": "code",
   "execution_count": 4,
   "metadata": {},
   "outputs": [
    {
     "name": "stdout",
     "output_type": "stream",
     "text": [
      "=======================================================\n",
      "Get Video Stream Intrinsics\n",
      "=======================================================\n",
      "Color Intrinsics:\n",
      "width: 1280, height: 720, ppx: 625.758, ppy: 367.576, fx: 928.179, fy: 926.949, model: Brown Conrady, coeffs: [0, 0, 0, 0, 0]\n",
      "\n",
      "Infrared Intrinsics:\n",
      "width: 1280, height: 720, ppx: 639.132, ppy: 362.58, fx: 637.557, fy: 637.557, model: Brown Conrady, coeffs: [0, 0, 0, 0, 0]\n",
      "\n",
      "Depth Intrinsics:\n",
      "width: 1280, height: 720, ppx: 639.132, ppy: 362.58, fx: 637.557, fy: 637.557, model: Brown Conrady, coeffs: [0, 0, 0, 0, 0]\n",
      "\n",
      "\n",
      "=======================================================\n",
      "Get and Apply Depth-to-Stream Extrinsics\n",
      "=======================================================\n",
      "Color Extrinsics:\n",
      "rotation: [0.999963, 0.0072977, -0.00455206, -0.00728499, 0.99997, 0.00280114, 0.00457237, -0.00276788, 0.999986]\n",
      "translation: [0.0145757, 0.00041163, 0.000190269]\n",
      "\n",
      "Infrared Extrinsics:\n",
      "rotation: [1, 0, 0, 0, 1, 0, 0, 0, 1]\n",
      "translation: [0, 0, 0]\n",
      "\n",
      "=======================================================\n",
      "Get Disparity Baseline\n",
      "=======================================================\n",
      "rotation: [1, 0, 0, 0, 1, 0, 0, 0, 1]\n",
      "translation: [-0.0499424, 0, 0]\n"
     ]
    }
   ],
   "source": [
    "# Configure depth and color streams\n",
    "pipeline = rs.pipeline()\n",
    "config = rs.config()\n",
    "\n",
    "if EnableColor is True:\n",
    "    config.enable_stream(rs.stream.color, ColorWidth, ColorHeight, rs.format.bgr8, ColorFPS)\n",
    "\n",
    "if EnableInfrared is True:\n",
    "    config.enable_stream(rs.stream.infrared, 1, InfWidth, InfHeight, informat, InfFPS)\n",
    "    config.enable_stream(rs.stream.infrared, 2, InfWidth, InfHeight, informat, InfFPS)\n",
    "    \n",
    "if EnableDepth is True:\n",
    "    config.enable_stream(rs.stream.depth, InfWidth, InfHeight, rs.format.z16, InfFPS)\n",
    "    \n",
    "# Start streaming\n",
    "cfg = pipeline.start(config)\n",
    "\n",
    "# Get Video Stream Intrinsics\n",
    "print(\"=======================================================\")\n",
    "print(\"Get Video Stream Intrinsics\")\n",
    "print(\"=======================================================\")\n",
    "colorStream = cfg.get_stream(rs.stream.color)\n",
    "colorProfile = colorStream.as_video_stream_profile()\n",
    "colorIntrin = colorProfile.get_intrinsics()\n",
    "print(\"Color Intrinsics:\")\n",
    "print(colorIntrin)\n",
    "print(\"\")\n",
    "\n",
    "infraredStream = cfg.get_stream(rs.stream.infrared, 1)\n",
    "infraredProfile = infraredStream.as_video_stream_profile()\n",
    "infraredIntrin = infraredProfile.get_intrinsics()\n",
    "print(\"Infrared Intrinsics:\")\n",
    "print(infraredIntrin)\n",
    "print(\"\")\n",
    "\n",
    "depthStream = cfg.get_stream(rs.stream.depth)\n",
    "depthProfile = depthStream.as_video_stream_profile()\n",
    "depthIntrin = depthProfile.get_intrinsics()\n",
    "print(\"Depth Intrinsics:\")\n",
    "print(depthIntrin)\n",
    "print(\"\")\n",
    "\n",
    "# Get and Apply Depth-to-Stream Extrinsics\n",
    "print(\"\\n=======================================================\")\n",
    "print(\"Get and Apply Depth-to-Stream Extrinsics\")\n",
    "print(\"=======================================================\")\n",
    "print(\"Color Extrinsics:\")\n",
    "colorExtrin = depthStream.get_extrinsics_to(colorStream)\n",
    "print(colorExtrin)\n",
    "print(\"\")\n",
    "print(\"Infrared Extrinsics:\")\n",
    "infraredExtrin = depthStream.get_extrinsics_to(infraredStream)\n",
    "print(infraredExtrin)\n",
    "\n",
    "# Get Disparity Baseline\n",
    "print(\"\\n=======================================================\")\n",
    "print(\"Get Disparity Baseline\")\n",
    "print(\"=======================================================\")\n",
    "infraredStream2 = cfg.get_stream(rs.stream.infrared, 2)\n",
    "baseline = infraredStream2.get_extrinsics_to(infraredStream)\n",
    "print(baseline)"
   ]
  },
  {
   "cell_type": "code",
   "execution_count": 5,
   "metadata": {},
   "outputs": [],
   "source": [
    "pipeline.stop()"
   ]
  }
 ],
 "metadata": {
  "kernelspec": {
   "display_name": "Python 3",
   "language": "python",
   "name": "python3"
  },
  "language_info": {
   "codemirror_mode": {
    "name": "ipython",
    "version": 3
   },
   "file_extension": ".py",
   "mimetype": "text/x-python",
   "name": "python",
   "nbconvert_exporter": "python",
   "pygments_lexer": "ipython3",
   "version": "3.6.5"
  }
 },
 "nbformat": 4,
 "nbformat_minor": 2
}
